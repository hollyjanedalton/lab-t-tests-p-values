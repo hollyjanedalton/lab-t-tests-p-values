{
 "cells": [
  {
   "cell_type": "markdown",
   "id": "4a0f6865",
   "metadata": {},
   "source": [
    "# Lab | Inferential statistics - T-test & P-value\n",
    "\n",
    "\n",
    "\n"
   ]
  },
  {
   "cell_type": "markdown",
   "id": "56fd7b4b",
   "metadata": {},
   "source": [
    "#### One tailed t-test - \n",
    "\n",
    "In a packing plant, a machine packs cartons with jars. It is supposed that a new machine will pack faster on the average than the machine currently used. \n",
    "\n",
    "To test that hypothesis, the times it takes each machine to pack ten cartons are recorded. \n",
    "\n",
    "The results, in seconds, are shown in the tables in the file files_for_lab/machine.txt. \n",
    "\n",
    "Assume that there is sufficient evidence to conduct the t test, does the data provide sufficient evidence to show if one machine is better than the other?"
   ]
  },
  {
   "cell_type": "code",
   "execution_count": 1,
   "id": "37a1d35f",
   "metadata": {},
   "outputs": [],
   "source": [
    "import pandas as pd\n",
    "import numpy as np\n",
    "import scipy.stats as st\n",
    "import matplotlib.pyplot as plt\n",
    "import seaborn as sns"
   ]
  },
  {
   "cell_type": "code",
   "execution_count": 2,
   "id": "27fdcba2",
   "metadata": {},
   "outputs": [],
   "source": [
    "machine = {'New_machine':  ['42.1',\n",
    "'41.0',\n",
    "'41.3',\n",
    "'41.8',\n",
    "'42.4',\n",
    "'42.8',\n",
    "'43.2',\n",
    "'42.3',\n",
    "'41.8',\n",
    "'42.7'],\n",
    "        'Old_machine': ['42.7', '43.6', '43.8', '43.3', '42.5', '43.5', '43.1', '41.7', '44', '44.1'],\n",
    "        }\n",
    "\n",
    "machine2 = pd.DataFrame(machine)"
   ]
  },
  {
   "cell_type": "code",
   "execution_count": 3,
   "id": "8ce9dc40",
   "metadata": {},
   "outputs": [
    {
     "data": {
      "text/plain": [
       "New_machine    int64\n",
       "Old_machine    int64\n",
       "dtype: object"
      ]
     },
     "execution_count": 3,
     "metadata": {},
     "output_type": "execute_result"
    }
   ],
   "source": [
    "machine2['New_machine'] = machine2['New_machine'].astype(float)\n",
    "machine2['Old_machine'] = machine2['Old_machine'].astype(float)\n",
    "machine2['New_machine'] = machine2['New_machine'].astype(int)\n",
    "machine2['Old_machine'] = machine2['Old_machine'].astype(int)\n",
    "machine2.dtypes"
   ]
  },
  {
   "cell_type": "code",
   "execution_count": 4,
   "id": "44c3893c",
   "metadata": {},
   "outputs": [
    {
     "name": "stdout",
     "output_type": "stream",
     "text": [
      "42.8\n",
      "41.7\n"
     ]
    }
   ],
   "source": [
    "print(machine2.Old_machine.mean())\n",
    "print(machine2.New_machine.mean())"
   ]
  },
  {
   "cell_type": "code",
   "execution_count": 5,
   "id": "598bad63",
   "metadata": {},
   "outputs": [
    {
     "name": "stdout",
     "output_type": "stream",
     "text": [
      "p value (single tailed):  [3.00059121e-04 5.00000000e-01]\n"
     ]
    }
   ],
   "source": [
    "#for the single tailed experiment\n",
    "\n",
    "#H0: mean speed of New_machine is >= mean speed of old Machine\n",
    "#H1: mean of New_machine is < mean speed of old Machine\n",
    "\n",
    "print('p value (single tailed): ',st.ttest_1samp(machine2,42.8)[1]/2)\n",
    "\n",
    "\n",
    "#we reject the null hypothesis\n",
    "\n",
    "#have reason to believe the average speed of the new machine is faster (takes less time) than the old machine"
   ]
  },
  {
   "cell_type": "code",
   "execution_count": null,
   "id": "fbf84fa0",
   "metadata": {},
   "outputs": [],
   "source": [
    "#These are independent samples, so use same test as AB testing example in class\n",
    "#st.ttest_ind()"
   ]
  },
  {
   "cell_type": "code",
   "execution_count": 6,
   "id": "9365fa06",
   "metadata": {},
   "outputs": [
    {
     "data": {
      "text/plain": [
       "Ttest_indResult(statistic=-3.050851079238744, pvalue=0.007409761983657036)"
      ]
     },
     "execution_count": 6,
     "metadata": {},
     "output_type": "execute_result"
    }
   ],
   "source": [
    "st.ttest_ind(machine2['New_machine'], machine2['Old_machine'], equal_var=False)  "
   ]
  },
  {
   "cell_type": "markdown",
   "id": "9f26676e",
   "metadata": {},
   "source": [
    "Conclusion: yes, the New machine is faster, but not by much. "
   ]
  },
  {
   "cell_type": "markdown",
   "id": "8558b8ef",
   "metadata": {},
   "source": [
    "#### Matched Pairs Test - \n",
    "In this challenge we will compare dependent samples of data describing our Pokemon (file files_for_lab/pokemon.csv).\n",
    "\n",
    "Our goal is to see whether there is a significant difference between each Pokemon's defense and attack scores. \n",
    "\n",
    "Our hypothesis is that the defense and attack scores are equal. \n",
    "\n",
    "Compare the two columns to see if there is a statistically significant difference between them and comment your result."
   ]
  },
  {
   "cell_type": "code",
   "execution_count": 8,
   "id": "5b6ed723",
   "metadata": {},
   "outputs": [
    {
     "data": {
      "text/html": [
       "<div>\n",
       "<style scoped>\n",
       "    .dataframe tbody tr th:only-of-type {\n",
       "        vertical-align: middle;\n",
       "    }\n",
       "\n",
       "    .dataframe tbody tr th {\n",
       "        vertical-align: top;\n",
       "    }\n",
       "\n",
       "    .dataframe thead th {\n",
       "        text-align: right;\n",
       "    }\n",
       "</style>\n",
       "<table border=\"1\" class=\"dataframe\">\n",
       "  <thead>\n",
       "    <tr style=\"text-align: right;\">\n",
       "      <th></th>\n",
       "      <th>#</th>\n",
       "      <th>Name</th>\n",
       "      <th>Type 1</th>\n",
       "      <th>Type 2</th>\n",
       "      <th>Total</th>\n",
       "      <th>HP</th>\n",
       "      <th>Attack</th>\n",
       "      <th>Defense</th>\n",
       "      <th>Sp. Atk</th>\n",
       "      <th>Sp. Def</th>\n",
       "      <th>Speed</th>\n",
       "      <th>Generation</th>\n",
       "      <th>Legendary</th>\n",
       "    </tr>\n",
       "  </thead>\n",
       "  <tbody>\n",
       "    <tr>\n",
       "      <th>0</th>\n",
       "      <td>1</td>\n",
       "      <td>Bulbasaur</td>\n",
       "      <td>Grass</td>\n",
       "      <td>Poison</td>\n",
       "      <td>318</td>\n",
       "      <td>45</td>\n",
       "      <td>49</td>\n",
       "      <td>49</td>\n",
       "      <td>65</td>\n",
       "      <td>65</td>\n",
       "      <td>45</td>\n",
       "      <td>1</td>\n",
       "      <td>False</td>\n",
       "    </tr>\n",
       "    <tr>\n",
       "      <th>1</th>\n",
       "      <td>2</td>\n",
       "      <td>Ivysaur</td>\n",
       "      <td>Grass</td>\n",
       "      <td>Poison</td>\n",
       "      <td>405</td>\n",
       "      <td>60</td>\n",
       "      <td>62</td>\n",
       "      <td>63</td>\n",
       "      <td>80</td>\n",
       "      <td>80</td>\n",
       "      <td>60</td>\n",
       "      <td>1</td>\n",
       "      <td>False</td>\n",
       "    </tr>\n",
       "    <tr>\n",
       "      <th>2</th>\n",
       "      <td>3</td>\n",
       "      <td>Venusaur</td>\n",
       "      <td>Grass</td>\n",
       "      <td>Poison</td>\n",
       "      <td>525</td>\n",
       "      <td>80</td>\n",
       "      <td>82</td>\n",
       "      <td>83</td>\n",
       "      <td>100</td>\n",
       "      <td>100</td>\n",
       "      <td>80</td>\n",
       "      <td>1</td>\n",
       "      <td>False</td>\n",
       "    </tr>\n",
       "    <tr>\n",
       "      <th>3</th>\n",
       "      <td>3</td>\n",
       "      <td>VenusaurMega Venusaur</td>\n",
       "      <td>Grass</td>\n",
       "      <td>Poison</td>\n",
       "      <td>625</td>\n",
       "      <td>80</td>\n",
       "      <td>100</td>\n",
       "      <td>123</td>\n",
       "      <td>122</td>\n",
       "      <td>120</td>\n",
       "      <td>80</td>\n",
       "      <td>1</td>\n",
       "      <td>False</td>\n",
       "    </tr>\n",
       "    <tr>\n",
       "      <th>4</th>\n",
       "      <td>4</td>\n",
       "      <td>Charmander</td>\n",
       "      <td>Fire</td>\n",
       "      <td>NaN</td>\n",
       "      <td>309</td>\n",
       "      <td>39</td>\n",
       "      <td>52</td>\n",
       "      <td>43</td>\n",
       "      <td>60</td>\n",
       "      <td>50</td>\n",
       "      <td>65</td>\n",
       "      <td>1</td>\n",
       "      <td>False</td>\n",
       "    </tr>\n",
       "    <tr>\n",
       "      <th>...</th>\n",
       "      <td>...</td>\n",
       "      <td>...</td>\n",
       "      <td>...</td>\n",
       "      <td>...</td>\n",
       "      <td>...</td>\n",
       "      <td>...</td>\n",
       "      <td>...</td>\n",
       "      <td>...</td>\n",
       "      <td>...</td>\n",
       "      <td>...</td>\n",
       "      <td>...</td>\n",
       "      <td>...</td>\n",
       "      <td>...</td>\n",
       "    </tr>\n",
       "    <tr>\n",
       "      <th>795</th>\n",
       "      <td>719</td>\n",
       "      <td>Diancie</td>\n",
       "      <td>Rock</td>\n",
       "      <td>Fairy</td>\n",
       "      <td>600</td>\n",
       "      <td>50</td>\n",
       "      <td>100</td>\n",
       "      <td>150</td>\n",
       "      <td>100</td>\n",
       "      <td>150</td>\n",
       "      <td>50</td>\n",
       "      <td>6</td>\n",
       "      <td>True</td>\n",
       "    </tr>\n",
       "    <tr>\n",
       "      <th>796</th>\n",
       "      <td>719</td>\n",
       "      <td>DiancieMega Diancie</td>\n",
       "      <td>Rock</td>\n",
       "      <td>Fairy</td>\n",
       "      <td>700</td>\n",
       "      <td>50</td>\n",
       "      <td>160</td>\n",
       "      <td>110</td>\n",
       "      <td>160</td>\n",
       "      <td>110</td>\n",
       "      <td>110</td>\n",
       "      <td>6</td>\n",
       "      <td>True</td>\n",
       "    </tr>\n",
       "    <tr>\n",
       "      <th>797</th>\n",
       "      <td>720</td>\n",
       "      <td>HoopaHoopa Confined</td>\n",
       "      <td>Psychic</td>\n",
       "      <td>Ghost</td>\n",
       "      <td>600</td>\n",
       "      <td>80</td>\n",
       "      <td>110</td>\n",
       "      <td>60</td>\n",
       "      <td>150</td>\n",
       "      <td>130</td>\n",
       "      <td>70</td>\n",
       "      <td>6</td>\n",
       "      <td>True</td>\n",
       "    </tr>\n",
       "    <tr>\n",
       "      <th>798</th>\n",
       "      <td>720</td>\n",
       "      <td>HoopaHoopa Unbound</td>\n",
       "      <td>Psychic</td>\n",
       "      <td>Dark</td>\n",
       "      <td>680</td>\n",
       "      <td>80</td>\n",
       "      <td>160</td>\n",
       "      <td>60</td>\n",
       "      <td>170</td>\n",
       "      <td>130</td>\n",
       "      <td>80</td>\n",
       "      <td>6</td>\n",
       "      <td>True</td>\n",
       "    </tr>\n",
       "    <tr>\n",
       "      <th>799</th>\n",
       "      <td>721</td>\n",
       "      <td>Volcanion</td>\n",
       "      <td>Fire</td>\n",
       "      <td>Water</td>\n",
       "      <td>600</td>\n",
       "      <td>80</td>\n",
       "      <td>110</td>\n",
       "      <td>120</td>\n",
       "      <td>130</td>\n",
       "      <td>90</td>\n",
       "      <td>70</td>\n",
       "      <td>6</td>\n",
       "      <td>True</td>\n",
       "    </tr>\n",
       "  </tbody>\n",
       "</table>\n",
       "<p>800 rows × 13 columns</p>\n",
       "</div>"
      ],
      "text/plain": [
       "       #                   Name   Type 1  Type 2  Total  HP  Attack  Defense  \\\n",
       "0      1              Bulbasaur    Grass  Poison    318  45      49       49   \n",
       "1      2                Ivysaur    Grass  Poison    405  60      62       63   \n",
       "2      3               Venusaur    Grass  Poison    525  80      82       83   \n",
       "3      3  VenusaurMega Venusaur    Grass  Poison    625  80     100      123   \n",
       "4      4             Charmander     Fire     NaN    309  39      52       43   \n",
       "..   ...                    ...      ...     ...    ...  ..     ...      ...   \n",
       "795  719                Diancie     Rock   Fairy    600  50     100      150   \n",
       "796  719    DiancieMega Diancie     Rock   Fairy    700  50     160      110   \n",
       "797  720    HoopaHoopa Confined  Psychic   Ghost    600  80     110       60   \n",
       "798  720     HoopaHoopa Unbound  Psychic    Dark    680  80     160       60   \n",
       "799  721              Volcanion     Fire   Water    600  80     110      120   \n",
       "\n",
       "     Sp. Atk  Sp. Def  Speed  Generation  Legendary  \n",
       "0         65       65     45           1      False  \n",
       "1         80       80     60           1      False  \n",
       "2        100      100     80           1      False  \n",
       "3        122      120     80           1      False  \n",
       "4         60       50     65           1      False  \n",
       "..       ...      ...    ...         ...        ...  \n",
       "795      100      150     50           6       True  \n",
       "796      160      110    110           6       True  \n",
       "797      150      130     70           6       True  \n",
       "798      170      130     80           6       True  \n",
       "799      130       90     70           6       True  \n",
       "\n",
       "[800 rows x 13 columns]"
      ]
     },
     "execution_count": 8,
     "metadata": {},
     "output_type": "execute_result"
    }
   ],
   "source": [
    "pokemon = pd.read_csv('/Users/hollydalton/Labs-Ironhack/lab-t-tests-p-values/files_for_lab/pokemon.csv')\n",
    "pokemon"
   ]
  },
  {
   "cell_type": "code",
   "execution_count": 9,
   "id": "204f7f05",
   "metadata": {},
   "outputs": [
    {
     "data": {
      "text/plain": [
       "Ttest_relResult(statistic=4.325566393330478, pvalue=1.7140303479358558e-05)"
      ]
     },
     "execution_count": 9,
     "metadata": {},
     "output_type": "execute_result"
    }
   ],
   "source": [
    "st.ttest_rel(pokemon['Attack'], pokemon['Defense'])\n",
    "#H0: defense score = attack score\n",
    "#H1: defense score != attack score \n",
    "\n",
    "#We must reject the null hypothesis. We reject that there is NO effect"
   ]
  },
  {
   "cell_type": "code",
   "execution_count": null,
   "id": "ba9fe74e",
   "metadata": {},
   "outputs": [],
   "source": [
    "#p-value is very small, therefore we reject the null hypothesis that defense score and attack score are equal"
   ]
  },
  {
   "cell_type": "markdown",
   "id": "08bd0c91",
   "metadata": {},
   "source": [
    "# Lab | Inferential statistics - ANOVA\n",
    "Note: The following lab is divided in 2 sections.\n"
   ]
  },
  {
   "cell_type": "markdown",
   "id": "418c7a02",
   "metadata": {},
   "source": [
    "### Part 1\n",
    "In this activity, we will look at another example. Your task is to understand the problem and write down all the steps to set up ANOVA. After the next lesson, we will ask you to solve this problem using Python. Here are the steps that you would need to work on: - Null hypothesis - Alternate hypothesis - Level of significance - Test statistic - P-value - F table\n",
    "\n",
    "    \n",
    "#### Context\n",
    "Suppose you are working as an analyst in a microprocessor chip manufacturing plant. \n",
    "You have been given the task of analyzing a plasma etching process with respect to changing Power (in Watts) of the plasma beam. \n",
    "Data was collected and provided to you to conduct statistical analysis and check if changing the power of the plasma beam has any effect on the etching rate by the machine. \n",
    "You will conduct ANOVA and check if there is any difference in the mean etching rate for different levels of power. You can find the data anova_lab_data.xlsx file in the files_for_lab folder"
   ]
  },
  {
   "cell_type": "code",
   "execution_count": null,
   "id": "fd12f59a",
   "metadata": {},
   "outputs": [],
   "source": [
    "#State the null hypothesis\n",
    "#State the alternate hypothesis\n",
    "\n",
    "#H0: the means of the various groups are the same. \n",
    "#(changing the power of the plasma beam does not have an effect on the etching rate of the machine)\n",
    "\n",
    "#H1: the means of the various groups are not the same\n",
    "#(changing the power of the plasma beam DOES have an effect on the etching rate of the machine)\n"
   ]
  },
  {
   "cell_type": "code",
   "execution_count": null,
   "id": "1a2d8909",
   "metadata": {},
   "outputs": [],
   "source": []
  },
  {
   "cell_type": "code",
   "execution_count": 10,
   "id": "962a4c41",
   "metadata": {},
   "outputs": [],
   "source": [
    "#What is the significance level?\n",
    "\n",
    "# I see no reason to use a different significance level other than the usual .05"
   ]
  },
  {
   "cell_type": "code",
   "execution_count": null,
   "id": "82b0f67e",
   "metadata": {},
   "outputs": [],
   "source": []
  },
  {
   "cell_type": "code",
   "execution_count": null,
   "id": "b0be47cf",
   "metadata": {},
   "outputs": [],
   "source": [
    "#What are the degrees of freedom of model, error terms, and total DoF\n",
    "#model error degrees of freedom = number of observations – number of parameters\n",
    "\n",
    "#Degrees of freedom = 15 observations - 1 parameter = 14 \n",
    "\n"
   ]
  },
  {
   "cell_type": "markdown",
   "id": "1a044f85",
   "metadata": {},
   "source": [
    "We can calculate the model error degrees of freedom as follows: model error degrees of freedom = number of observations – number of parameters. model error degrees of freedom = 100 – 10,000. model error degrees of freedom = -9,900.\n",
    "\n",
    "For example, we may have 50 independent samples and we wish to calculate a statistic of the sample, like the mean. All 50 samples are used in the calculation and there is one statistic, so the number of degrees of freedom for the mean, in this case, is calculated as:\n",
    "\n",
    "degrees of freedom = number of independent values – number of statistics\n",
    "degrees of freedom = 50 – 1\n",
    "degrees of freedom = 49"
   ]
  },
  {
   "cell_type": "code",
   "execution_count": null,
   "id": "29f4717a",
   "metadata": {},
   "outputs": [],
   "source": [
    "#Data was collected randomly and provided to you in the table as shown: link to the image - Data\n",
    "#https://education-team-2020.s3-eu-west-1.amazonaws.com/data-analytics/7.05/7.05-lab_data.png"
   ]
  },
  {
   "cell_type": "code",
   "execution_count": null,
   "id": "36a2d27a",
   "metadata": {},
   "outputs": [],
   "source": []
  },
  {
   "cell_type": "markdown",
   "id": "1f8f4ecd",
   "metadata": {},
   "source": [
    "## Part 2\n",
    "\n",
    "In this section, use the Python to conduct ANOVA.\n",
    "\n",
    "\n",
    "What conclusions can you draw from the experiment and why?"
   ]
  },
  {
   "cell_type": "code",
   "execution_count": 20,
   "id": "87ff4b38",
   "metadata": {},
   "outputs": [
    {
     "name": "stdout",
     "output_type": "stream",
     "text": [
      "Power \n",
      "Etching Rate\n"
     ]
    }
   ],
   "source": [
    "df = pd.read_excel (r'/Users/hollydalton/Labs-Ironhack/lab-t-tests-p-values/files_for_lab/anova_lab_data.xlsx')\n",
    "df\n",
    "\n",
    "# iterating the columns\n",
    "for col in df.columns:\n",
    "    print(col)"
   ]
  },
  {
   "cell_type": "code",
   "execution_count": 22,
   "id": "b4665ab3",
   "metadata": {},
   "outputs": [
    {
     "data": {
      "text/plain": [
       "0     160 W\n",
       "1     180 W\n",
       "2     200 W\n",
       "3     160 W\n",
       "4     180 W\n",
       "5     200 W\n",
       "6     160 W\n",
       "7     180 W\n",
       "8     200 W\n",
       "9     160 W\n",
       "10    180 W\n",
       "11    200 W\n",
       "12    160 W\n",
       "13    180 W\n",
       "14    200 W\n",
       "Name: Power , dtype: object"
      ]
     },
     "execution_count": 22,
     "metadata": {},
     "output_type": "execute_result"
    }
   ],
   "source": [
    "df['Power ']  ##has an extra space! ugh"
   ]
  },
  {
   "cell_type": "code",
   "execution_count": 25,
   "id": "6c338afa",
   "metadata": {},
   "outputs": [
    {
     "data": {
      "text/html": [
       "<div>\n",
       "<style scoped>\n",
       "    .dataframe tbody tr th:only-of-type {\n",
       "        vertical-align: middle;\n",
       "    }\n",
       "\n",
       "    .dataframe tbody tr th {\n",
       "        vertical-align: top;\n",
       "    }\n",
       "\n",
       "    .dataframe thead th {\n",
       "        text-align: right;\n",
       "    }\n",
       "</style>\n",
       "<table border=\"1\" class=\"dataframe\">\n",
       "  <thead>\n",
       "    <tr style=\"text-align: right;\">\n",
       "      <th></th>\n",
       "      <th>Power_160</th>\n",
       "      <th>Power_180</th>\n",
       "      <th>Power_200</th>\n",
       "    </tr>\n",
       "    <tr>\n",
       "      <th>power_count</th>\n",
       "      <th></th>\n",
       "      <th></th>\n",
       "      <th></th>\n",
       "    </tr>\n",
       "  </thead>\n",
       "  <tbody>\n",
       "    <tr>\n",
       "      <th>0</th>\n",
       "      <td>5.43</td>\n",
       "      <td>6.24</td>\n",
       "      <td>8.79</td>\n",
       "    </tr>\n",
       "    <tr>\n",
       "      <th>1</th>\n",
       "      <td>5.71</td>\n",
       "      <td>6.71</td>\n",
       "      <td>9.20</td>\n",
       "    </tr>\n",
       "    <tr>\n",
       "      <th>2</th>\n",
       "      <td>6.22</td>\n",
       "      <td>5.98</td>\n",
       "      <td>7.90</td>\n",
       "    </tr>\n",
       "    <tr>\n",
       "      <th>3</th>\n",
       "      <td>6.01</td>\n",
       "      <td>5.66</td>\n",
       "      <td>8.15</td>\n",
       "    </tr>\n",
       "    <tr>\n",
       "      <th>4</th>\n",
       "      <td>5.59</td>\n",
       "      <td>6.60</td>\n",
       "      <td>7.55</td>\n",
       "    </tr>\n",
       "  </tbody>\n",
       "</table>\n",
       "</div>"
      ],
      "text/plain": [
       "             Power_160  Power_180  Power_200\n",
       "power_count                                 \n",
       "0                 5.43       6.24       8.79\n",
       "1                 5.71       6.71       9.20\n",
       "2                 6.22       5.98       7.90\n",
       "3                 6.01       5.66       8.15\n",
       "4                 5.59       6.60       7.55"
      ]
     },
     "execution_count": 25,
     "metadata": {},
     "output_type": "execute_result"
    }
   ],
   "source": [
    "df['power_count'] = df.groupby('Power ').cumcount() ##is the new index \n",
    "\n",
    "\n",
    "df_pivot = df.pivot(index='power_count', columns='Power ', values='Etching Rate')\n",
    "df_pivot.columns = ['Power_'+str(x) for x in df_pivot.columns.values]\n",
    "\n",
    "\n",
    "df_pivot.rename(columns = {'Power_160 W' : 'Power_160', 'Power_180 W' : 'Power_180', 'Power_200 W': 'Power_200'}, inplace = True)\n",
    "df_pivot"
   ]
  },
  {
   "cell_type": "code",
   "execution_count": null,
   "id": "a2129062",
   "metadata": {},
   "outputs": [],
   "source": [
    "#so from each of the 3 powers, we have 5 observations  (15 observations total)"
   ]
  },
  {
   "cell_type": "code",
   "execution_count": 27,
   "id": "41877640",
   "metadata": {},
   "outputs": [
    {
     "data": {
      "text/plain": [
       "F_onewayResult(statistic=36.87895470100505, pvalue=7.506584272358903e-06)"
      ]
     },
     "execution_count": 27,
     "metadata": {},
     "output_type": "execute_result"
    }
   ],
   "source": [
    "st.f_oneway(df_pivot['Power_160'],df_pivot.Power_180,df_pivot.Power_200)"
   ]
  },
  {
   "cell_type": "code",
   "execution_count": null,
   "id": "84bb4566",
   "metadata": {},
   "outputs": [],
   "source": [
    "#we have a very small pvalue below .05, \n",
    "#so we can reject the null hypothesis that the means of the various groups are the same\n",
    "#In other words, changing the power of the plasma beam DOES have an effect on the etching rate of the machine"
   ]
  }
 ],
 "metadata": {
  "kernelspec": {
   "display_name": "Python 3 (ipykernel)",
   "language": "python",
   "name": "python3"
  },
  "language_info": {
   "codemirror_mode": {
    "name": "ipython",
    "version": 3
   },
   "file_extension": ".py",
   "mimetype": "text/x-python",
   "name": "python",
   "nbconvert_exporter": "python",
   "pygments_lexer": "ipython3",
   "version": "3.9.12"
  }
 },
 "nbformat": 4,
 "nbformat_minor": 5
}
